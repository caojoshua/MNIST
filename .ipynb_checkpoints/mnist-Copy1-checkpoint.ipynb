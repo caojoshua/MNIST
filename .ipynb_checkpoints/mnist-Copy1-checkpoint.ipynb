{
 "cells": [
  {
   "cell_type": "code",
   "execution_count": 1,
   "metadata": {},
   "outputs": [],
   "source": [
    "import numpy as np\n",
    "from sklearn import *\n",
    "import tensorflow as tf"
   ]
  },
  {
   "cell_type": "markdown",
   "metadata": {},
   "source": [
    "<font size=\"5\">data preprocessing</font>"
   ]
  },
  {
   "cell_type": "code",
   "execution_count": 2,
   "metadata": {},
   "outputs": [
    {
     "name": "stdout",
     "output_type": "stream",
     "text": [
      "(42000, 785)\n"
     ]
    }
   ],
   "source": [
    "data = np.genfromtxt(\"data/train.csv\", delimiter=\",\", skip_header=1)\n",
    "np.random.shuffle(data)\n",
    "print(data.shape)"
   ]
  },
  {
   "cell_type": "code",
   "execution_count": 3,
   "metadata": {},
   "outputs": [
    {
     "name": "stdout",
     "output_type": "stream",
     "text": [
      "(28000, 784)\n"
     ]
    }
   ],
   "source": [
    "Xtest = np.genfromtxt(\"data/test.csv\", delimiter=\",\", skip_header=1)\n",
    "print(Xtest.shape)"
   ]
  },
  {
   "cell_type": "code",
   "execution_count": 4,
   "metadata": {},
   "outputs": [
    {
     "name": "stdout",
     "output_type": "stream",
     "text": [
      "(42000, 784)\n",
      "(42000,)\n"
     ]
    }
   ],
   "source": [
    "X = data[:,1:]\n",
    "Y = data[:,0]\n",
    "\n",
    "print(X.shape)\n",
    "print(Y.shape)\n"
   ]
  },
  {
   "cell_type": "code",
   "execution_count": 5,
   "metadata": {},
   "outputs": [],
   "source": [
    "lb = preprocessing.LabelBinarizer()\n",
    "lb.fit([0,1,2,3,4,5,6,7,8,9])\n",
    "Y = lb.transform(Y)"
   ]
  },
  {
   "cell_type": "markdown",
   "metadata": {},
   "source": [
    "<font size=\"5\">feature selection</font>"
   ]
  },
  {
   "cell_type": "code",
   "execution_count": 6,
   "metadata": {},
   "outputs": [
    {
     "name": "stdout",
     "output_type": "stream",
     "text": [
      "(42000, 612)\n"
     ]
    }
   ],
   "source": [
    "vt = feature_selection.VarianceThreshold(10)\n",
    "X = vt.fit_transform(X)\n",
    "print(X.shape)"
   ]
  },
  {
   "cell_type": "code",
   "execution_count": 7,
   "metadata": {},
   "outputs": [
    {
     "name": "stdout",
     "output_type": "stream",
     "text": [
      "(28000, 612)\n"
     ]
    }
   ],
   "source": [
    "mask = vt.get_support()\n",
    "Xtest = Xtest[:,mask]\n",
    "print(Xtest.shape)"
   ]
  },
  {
   "cell_type": "markdown",
   "metadata": {},
   "source": [
    "<font size=\"5\">training/validation split</font>"
   ]
  },
  {
   "cell_type": "code",
   "execution_count": 8,
   "metadata": {},
   "outputs": [],
   "source": [
    "Xtr = X[0:32000]\n",
    "Ytr = Y[0:32000]\n",
    "Xva = X[32000:42000]\n",
    "Yva = Y[32000:42000]"
   ]
  },
  {
   "cell_type": "markdown",
   "metadata": {},
   "source": [
    "<font size=\"5\">tensorflow setup</font>"
   ]
  },
  {
   "cell_type": "code",
   "execution_count": 9,
   "metadata": {},
   "outputs": [],
   "source": [
    "batch_size = tf.placeholder(tf.int64)\n",
    "test_batch_size = tf.placeholder(tf.int64)"
   ]
  },
  {
   "cell_type": "code",
   "execution_count": 21,
   "metadata": {},
   "outputs": [],
   "source": [
    "epoch = 10\n",
    "BATCH_SIZE = 500\n",
    "n_batch = Xtr.shape[0] // BATCH_SIZE"
   ]
  },
  {
   "cell_type": "code",
   "execution_count": 22,
   "metadata": {},
   "outputs": [],
   "source": [
    "x = tf.placeholder(tf.float32, shape=[None,Xtr.shape[1]]) \n",
    "y = tf.placeholder(tf.float32, shape=[None,10])\n",
    "dataset = tf.data.Dataset.from_tensor_slices((x, y)).batch(BATCH_SIZE).repeat()\n",
    "\n",
    "iterator = dataset.make_initializable_iterator()\n",
    "x_batch, y_batch = iterator.get_next()\n",
    "\n",
    "# train_init_op = iterator.make_initializer(dataset)"
   ]
  },
  {
   "cell_type": "code",
   "execution_count": 23,
   "metadata": {},
   "outputs": [],
   "source": [
    "# dataset = tf.data.Dataset.from_tensor_slices((Xtr, Ytr)).batch(BATCH_SIZE).repeat()\n",
    "# iterator = dataset.make_one_shot_iterator()\n",
    "# x_batch, y_batch = iterator.get_next()"
   ]
  },
  {
   "cell_type": "code",
   "execution_count": 24,
   "metadata": {},
   "outputs": [],
   "source": [
    "val_dataset = tf.data.Dataset.from_tensor_slices((x, y)).batch(batch_size)\n",
    "val_iterator = val_dataset.make_initializable_iterator()"
   ]
  },
  {
   "cell_type": "code",
   "execution_count": 25,
   "metadata": {},
   "outputs": [],
   "source": [
    "test_dataset = tf.data.Dataset.from_tensor_slices((x)).batch(batch_size)\n",
    "test_iterator = test_dataset.make_initializable_iterator()"
   ]
  },
  {
   "cell_type": "code",
   "execution_count": 26,
   "metadata": {},
   "outputs": [],
   "source": [
    "dense = tf.layers.dense(inputs=x_batch, units=1000, activation=tf.nn.relu)\n",
    "\n",
    "logits = tf.layers.dense(inputs=dense, units=10)"
   ]
  },
  {
   "cell_type": "code",
   "execution_count": 27,
   "metadata": {},
   "outputs": [],
   "source": [
    "loss = tf.losses.softmax_cross_entropy(onehot_labels=y_batch, logits=logits)\n",
    "\n",
    "optimizer = tf.train.GradientDescentOptimizer(learning_rate=0.01).minimize(loss)\n",
    "\n",
    "accuracy = tf.metrics.accuracy(labels=tf.argmax(y_batch, 1), predictions=tf.argmax(logits, 1))\n",
    "val_acc_metric = tf.metrics.accuracy(labels=tf.argmax(Yva, 1), predictions=tf.argmax(logits, 1))"
   ]
  },
  {
   "cell_type": "markdown",
   "metadata": {},
   "source": [
    "<font size=\"5\">Run the Model</font>"
   ]
  },
  {
   "cell_type": "code",
   "execution_count": 28,
   "metadata": {},
   "outputs": [
    {
     "name": "stdout",
     "output_type": "stream",
     "text": [
      "EPOCH 0\n",
      "training data\n",
      "accuracy:  0.40614552388433367\n",
      "loss:  0.010176541283726692\n",
      "DONE WITH EPOCH\n",
      "EPOCH 1\n",
      "training data\n",
      "accuracy:  0.6757094049826264\n",
      "loss:  0.007082961034029722\n",
      "DONE WITH EPOCH\n",
      "EPOCH 2\n",
      "training data\n",
      "accuracy:  0.7612620517611504\n",
      "loss:  0.00547737767919898\n",
      "DONE WITH EPOCH\n",
      "EPOCH 3\n",
      "training data\n",
      "accuracy:  0.8048845715820789\n",
      "loss:  0.0043897260911762714\n",
      "DONE WITH EPOCH\n",
      "EPOCH 4\n",
      "training data\n",
      "accuracy:  0.8323367750272155\n",
      "loss:  0.00366965401917696\n",
      "DONE WITH EPOCH\n",
      "EPOCH 5\n",
      "training data\n",
      "accuracy:  0.8515620147809386\n",
      "loss:  0.0030919539276510477\n",
      "DONE WITH EPOCH\n",
      "EPOCH 6\n",
      "training data\n",
      "accuracy:  0.8658222882077098\n",
      "loss:  0.0027120437007397413\n",
      "DONE WITH EPOCH\n",
      "EPOCH 7\n",
      "training data\n",
      "accuracy:  0.8770266901701689\n",
      "loss:  0.0024166773073375225\n",
      "DONE WITH EPOCH\n",
      "EPOCH 8\n",
      "training data\n",
      "accuracy:  0.8862155769020319\n",
      "loss:  0.002165828365832567\n",
      "DONE WITH EPOCH\n",
      "EPOCH 9\n",
      "training data\n",
      "accuracy:  0.8938875952735543\n",
      "loss:  0.001816206844523549\n",
      "DONE WITH EPOCH\n"
     ]
    }
   ],
   "source": [
    "sess = tf.Session()\n",
    "sess.run(tf.global_variables_initializer())\n",
    "sess.run(tf.local_variables_initializer())\n",
    "\n",
    "sess.run(iterator.initializer, feed_dict={ x: Xtr, y: Ytr, batch_size: BATCH_SIZE})\n",
    "\n",
    "for i in range(epoch):\n",
    "    print('EPOCH', i)\n",
    "    tot_acc = 0\n",
    "    tot_loss = 0\n",
    "    for _ in range(n_batch):\n",
    "        _, accuracy_val, loss_val = sess.run([optimizer, accuracy, loss])\n",
    "        tot_acc += accuracy_val[0]\n",
    "        tot_loss += loss_val\n",
    "    print(\"training data\")\n",
    "    print(\"accuracy: \", tot_acc/n_batch)\n",
    "    print(\"loss: \", loss_val/n_batch)\n",
    "   \n",
    "#     print(\"validation data\")\n",
    "#     sess.run(val_iterator.initializer, feed_dict={x: Xva, y: Yva, batch_size: len(Xva)})\n",
    "#     val_acc = sess.run(val_acc_metric)\n",
    "    \n",
    "    \n",
    "#     val_acc, val_loss = sess.run([val_acc_metric, loss], feed_dict={x: Xva, y: Yva})\n",
    "#     print(\"val accuracy: \", val_acc)\n",
    "#     print(\"val loss: \", val_loss)\n",
    "    print('DONE WITH EPOCH')\n",
    "        \n"
   ]
  },
  {
   "cell_type": "code",
   "execution_count": 29,
   "metadata": {},
   "outputs": [],
   "source": [
    "# sess.run(test_iterator.initializer, feed_dict={ x: Xtest, batch_size: 28000})\n",
    "\n",
    "# pred_y=tf.argmax(tf.nn.softmax(logits),1)\n",
    "# a = sess.run(logits, feed_dict={x:Xtest})\n",
    "# print(np.array(a).shape)\n",
    "# predictions = pred_y.eval(session=sess, feed_dict={x: Xtest})\n",
    "# print(np.array(predictions).shape)"
   ]
  },
  {
   "cell_type": "code",
   "execution_count": 30,
   "metadata": {},
   "outputs": [
    {
     "name": "stdout",
     "output_type": "stream",
     "text": [
      "(500,)\n"
     ]
    }
   ],
   "source": [
    "sess.run(iterator.initializer, feed_dict={ x: Xtest, y:[[0 for _ in range(10)] for __ in range(28000)], batch_size: 28000})\n",
    "\n",
    "pred_y=tf.argmax(tf.nn.softmax(logits),1)\n",
    "predictions = pred_y.eval(session=sess)\n",
    "print(np.array(predictions).shape)"
   ]
  },
  {
   "cell_type": "code",
   "execution_count": 20,
   "metadata": {},
   "outputs": [
    {
     "ename": "PermissionError",
     "evalue": "[Errno 13] Permission denied: 'output/kaggle2.csv'",
     "output_type": "error",
     "traceback": [
      "\u001b[1;31m---------------------------------------------------------------------------\u001b[0m",
      "\u001b[1;31mPermissionError\u001b[0m                           Traceback (most recent call last)",
      "\u001b[1;32m<ipython-input-20-465be824706d>\u001b[0m in \u001b[0;36m<module>\u001b[1;34m()\u001b[0m\n\u001b[1;32m----> 1\u001b[1;33m \u001b[0mf\u001b[0m \u001b[1;33m=\u001b[0m \u001b[0mopen\u001b[0m\u001b[1;33m(\u001b[0m\u001b[1;34m\"output/kaggle2.csv\"\u001b[0m\u001b[1;33m,\u001b[0m \u001b[1;34m\"w\"\u001b[0m\u001b[1;33m)\u001b[0m\u001b[1;33m\u001b[0m\u001b[0m\n\u001b[0m\u001b[0;32m      2\u001b[0m \u001b[0mf\u001b[0m\u001b[1;33m.\u001b[0m\u001b[0mwrite\u001b[0m\u001b[1;33m(\u001b[0m\u001b[1;34m\"ImageId,Label\\n\"\u001b[0m\u001b[1;33m)\u001b[0m\u001b[1;33m\u001b[0m\u001b[0m\n\u001b[0;32m      3\u001b[0m \u001b[1;32mfor\u001b[0m \u001b[0mi\u001b[0m \u001b[1;32min\u001b[0m \u001b[0mrange\u001b[0m\u001b[1;33m(\u001b[0m\u001b[0mlen\u001b[0m\u001b[1;33m(\u001b[0m\u001b[0mpredictions\u001b[0m\u001b[1;33m)\u001b[0m\u001b[1;33m)\u001b[0m\u001b[1;33m:\u001b[0m\u001b[1;33m\u001b[0m\u001b[0m\n\u001b[0;32m      4\u001b[0m     \u001b[0mf\u001b[0m\u001b[1;33m.\u001b[0m\u001b[0mwrite\u001b[0m\u001b[1;33m(\u001b[0m\u001b[0mstr\u001b[0m\u001b[1;33m(\u001b[0m\u001b[0mi\u001b[0m\u001b[1;33m+\u001b[0m\u001b[1;36m1\u001b[0m\u001b[1;33m)\u001b[0m \u001b[1;33m+\u001b[0m \u001b[1;34m\",\"\u001b[0m \u001b[1;33m+\u001b[0m \u001b[0mstr\u001b[0m\u001b[1;33m(\u001b[0m\u001b[0mpredictions\u001b[0m\u001b[1;33m[\u001b[0m\u001b[0mi\u001b[0m\u001b[1;33m]\u001b[0m\u001b[1;33m)\u001b[0m \u001b[1;33m+\u001b[0m \u001b[1;34m\"\\n\"\u001b[0m\u001b[1;33m)\u001b[0m\u001b[1;33m\u001b[0m\u001b[0m\n\u001b[0;32m      5\u001b[0m \u001b[0mf\u001b[0m\u001b[1;33m.\u001b[0m\u001b[0mclose\u001b[0m\u001b[1;33m(\u001b[0m\u001b[1;33m)\u001b[0m\u001b[1;33m\u001b[0m\u001b[0m\n",
      "\u001b[1;31mPermissionError\u001b[0m: [Errno 13] Permission denied: 'output/kaggle2.csv'"
     ]
    }
   ],
   "source": [
    "f = open(\"output/kaggle2.csv\", \"w\")\n",
    "f.write(\"ImageId,Label\\n\")\n",
    "for i in range(len(predictions)):\n",
    "    f.write(str(i+1) + \",\" + str(predictions[i]) + \"\\n\")\n",
    "f.close()"
   ]
  },
  {
   "cell_type": "code",
   "execution_count": null,
   "metadata": {},
   "outputs": [],
   "source": []
  }
 ],
 "metadata": {
  "kernelspec": {
   "display_name": "Python 3",
   "language": "python",
   "name": "python3"
  },
  "language_info": {
   "codemirror_mode": {
    "name": "ipython",
    "version": 3
   },
   "file_extension": ".py",
   "mimetype": "text/x-python",
   "name": "python",
   "nbconvert_exporter": "python",
   "pygments_lexer": "ipython3",
   "version": "3.6.5"
  }
 },
 "nbformat": 4,
 "nbformat_minor": 2
}

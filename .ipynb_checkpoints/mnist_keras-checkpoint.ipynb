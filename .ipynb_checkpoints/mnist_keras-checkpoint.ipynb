{
 "cells": [
  {
   "cell_type": "code",
   "execution_count": 1,
   "metadata": {},
   "outputs": [],
   "source": [
    "import numpy as np\n",
    "from sklearn import *\n",
    "import tensorflow as tf\n",
    "import tensorflow.keras\n",
    "import matplotlib.pyplot as plt"
   ]
  },
  {
   "cell_type": "markdown",
   "metadata": {},
   "source": [
    "<font size=\"5\">import data</font>"
   ]
  },
  {
   "cell_type": "code",
   "execution_count": 2,
   "metadata": {},
   "outputs": [
    {
     "name": "stdout",
     "output_type": "stream",
     "text": [
      "(42000, 785)\n"
     ]
    }
   ],
   "source": [
    "data = np.genfromtxt(\"data/train.csv\", delimiter=\",\", skip_header=1)\n",
    "# np.random.shuffle(data)\n",
    "print(data.shape)"
   ]
  },
  {
   "cell_type": "code",
   "execution_count": 73,
   "metadata": {},
   "outputs": [],
   "source": [
    "Xtest_data = np.genfromtxt(\"data/test.csv\", delimiter=\",\", skip_header=1)"
   ]
  },
  {
   "cell_type": "code",
   "execution_count": 74,
   "metadata": {},
   "outputs": [
    {
     "name": "stdout",
     "output_type": "stream",
     "text": [
      "(28000, 784)\n"
     ]
    }
   ],
   "source": [
    "Xtest = Xtest_data\n",
    "print(Xtest.shape)"
   ]
  },
  {
   "cell_type": "code",
   "execution_count": 75,
   "metadata": {},
   "outputs": [
    {
     "name": "stdout",
     "output_type": "stream",
     "text": [
      "(42000, 784)\n",
      "(42000,)\n"
     ]
    }
   ],
   "source": [
    "X = data[:,1:]\n",
    "Y = data[:,0]\n",
    "\n",
    "print(X.shape)\n",
    "print(Y.shape)\n"
   ]
  },
  {
   "cell_type": "markdown",
   "metadata": {},
   "source": [
    "<font size=\"5\">data visualization</font>"
   ]
  },
  {
   "cell_type": "code",
   "execution_count": 76,
   "metadata": {},
   "outputs": [
    {
     "data": {
      "text/plain": [
       "<matplotlib.image.AxesImage at 0x1e7a3824668>"
      ]
     },
     "execution_count": 76,
     "metadata": {},
     "output_type": "execute_result"
    },
    {
     "data": {
      "image/png": "[encoded data removed]",
      "text/plain": [
       "<Figure size 432x288 with 1 Axes>"
      ]
     },
     "metadata": {},
     "output_type": "display_data"
    }
   ],
   "source": [
    "plt.figure()\n",
    "img = np.reshape(X[0,:],(28,28))\n",
    "plt.imshow(img.T, cmap=\"gray\")"
   ]
  },
  {
   "cell_type": "code",
   "execution_count": 83,
   "metadata": {},
   "outputs": [
    {
     "data": {
      "text/plain": [
       "<matplotlib.image.AxesImage at 0x1e7e2b90a58>"
      ]
     },
     "execution_count": 83,
     "metadata": {},
     "output_type": "execute_result"
    },
    {
     "data": {
      "image/png": "[encoded data removed]",
      "text/plain": [
       "<Figure size 432x288 with 1 Axes>"
      ]
     },
     "metadata": {},
     "output_type": "display_data"
    }
   ],
   "source": [
    "plt.figure()\n",
    "img = np.reshape(Xtest_data[10,:],(28,28))\n",
    "plt.imshow(img.T, cmap=\"gray\")"
   ]
  },
  {
   "cell_type": "code",
   "execution_count": 78,
   "metadata": {},
   "outputs": [
    {
     "name": "stdout",
     "output_type": "stream",
     "text": [
      "(42000, 784)\n",
      "(28000, 784)\n"
     ]
    }
   ],
   "source": [
    "#normalize\n",
    "X = X/255\n",
    "Xtest = Xtest/255\n",
    "print(X.shape)\n",
    "print(Xtest.shape)"
   ]
  },
  {
   "cell_type": "markdown",
   "metadata": {},
   "source": [
    "<font size=\"5\">feature selection</font>"
   ]
  },
  {
   "cell_type": "code",
   "execution_count": 79,
   "metadata": {},
   "outputs": [
    {
     "name": "stdout",
     "output_type": "stream",
     "text": [
      "(42000, 484)\n"
     ]
    }
   ],
   "source": [
    "edge_cutoff=3\n",
    "x_reshape=[]\n",
    "for i in range(len(X)):\n",
    "    x_reshape.append(X[i].reshape((28, 28))[edge_cutoff:28-edge_cutoff, edge_cutoff:28-edge_cutoff].flatten())\n",
    "X = np.array(x_reshape)\n",
    "print(X.shape)\n",
    "\n",
    "img_dim = 28 - (2 * edge_cutoff)"
   ]
  },
  {
   "cell_type": "code",
   "execution_count": 80,
   "metadata": {},
   "outputs": [
    {
     "name": "stdout",
     "output_type": "stream",
     "text": [
      "(28000, 484)\n"
     ]
    }
   ],
   "source": [
    "x_reshape=[]\n",
    "for i in range(len(Xtest)):\n",
    "    x_reshape.append(Xtest[i].reshape((28, 28))[edge_cutoff:28-edge_cutoff, edge_cutoff:28-edge_cutoff].flatten())\n",
    "Xtest = np.array(x_reshape)\n",
    "print(Xtest.shape)"
   ]
  },
  {
   "cell_type": "code",
   "execution_count": 81,
   "metadata": {},
   "outputs": [
    {
     "data": {
      "text/plain": [
       "<matplotlib.image.AxesImage at 0x1e7e19f3390>"
      ]
     },
     "execution_count": 81,
     "metadata": {},
     "output_type": "execute_result"
    },
    {
     "data": {
      "image/png": "[encoded data removed]",
      "text/plain": [
       "<Figure size 432x288 with 1 Axes>"
      ]
     },
     "metadata": {},
     "output_type": "display_data"
    }
   ],
   "source": [
    "#visualization to make sure the feature selection is working as intended\n",
    "plt.figure()\n",
    "img = np.reshape(X[0,:],(img_dim,img_dim))\n",
    "plt.imshow(img.T, cmap=\"gray\")"
   ]
  },
  {
   "cell_type": "code",
   "execution_count": 84,
   "metadata": {},
   "outputs": [
    {
     "data": {
      "text/plain": [
       "<matplotlib.image.AxesImage at 0x1e7ee7fa630>"
      ]
     },
     "execution_count": 84,
     "metadata": {},
     "output_type": "execute_result"
    },
    {
     "data": {
      "image/png": "[encoded data removed]",
      "text/plain": [
       "<Figure size 432x288 with 1 Axes>"
      ]
     },
     "metadata": {},
     "output_type": "display_data"
    }
   ],
   "source": [
    "#visualization to make sure the feature selection is working as intended\n",
    "plt.figure()\n",
    "img = np.reshape(Xtest[10,:],(img_dim,img_dim))\n",
    "plt.imshow(img.T, cmap=\"gray\")"
   ]
  },
  {
   "cell_type": "markdown",
   "metadata": {},
   "source": [
    "<font size=\"5\">training/validation split</font>"
   ]
  },
  {
   "cell_type": "code",
   "execution_count": 33,
   "metadata": {},
   "outputs": [
    {
     "name": "stdout",
     "output_type": "stream",
     "text": [
      "(31500, 484)\n",
      "(31500,)\n"
     ]
    },
    {
     "name": "stderr",
     "output_type": "stream",
     "text": [
      "C:\\Users\\caojo\\AppData\\Local\\Programs\\Python\\Python36\\lib\\site-packages\\sklearn\\model_selection\\_split.py:2179: FutureWarning: From version 0.21, test_size will always complement train_size unless both are specified.\n",
      "  FutureWarning)\n"
     ]
    }
   ],
   "source": [
    "#train_test_split shuffles the data\n",
    "Xtr, Xva, Ytr, Yva = model_selection.train_test_split(X, Y, train_size=.75, random_state=0)\n",
    "\n",
    "print(Xtr.shape)\n",
    "print(Ytr.shape)"
   ]
  },
  {
   "cell_type": "markdown",
   "metadata": {},
   "source": [
    "<font size=\"5\">Model Setup</font>"
   ]
  },
  {
   "cell_type": "code",
   "execution_count": 133,
   "metadata": {},
   "outputs": [],
   "source": [
    "model = tf.keras.Sequential()\n",
    "\n",
    "model.add(tf.keras.layers.Reshape((img_dim, img_dim, 1), input_shape=(len(Xtr[0]),)))\n",
    "\n",
    "model.add(tf.keras.layers.Conv2D(filters=64, kernel_size=(6,6), activation=tf.nn.relu))\n",
    "model.add(tf.keras.layers.MaxPooling2D(pool_size=2))\n",
    "model.add(tf.keras.layers.Dropout(0.4))\n",
    "\n",
    "model.add(tf.keras.layers.Conv2D(filters=64, kernel_size=(3,3), activation=tf.nn.relu))\n",
    "model.add(tf.keras.layers.MaxPooling2D(pool_size=2))\n",
    "model.add(tf.keras.layers.Dropout(0.4))\n",
    "\n",
    "model.add(tf.layers.Flatten())\n",
    "model.add(tf.keras.layers.Dense(units=500, activation=tf.nn.relu))\n",
    "model.add(tf.keras.layers.Dropout(0.4))\n",
    "\n",
    "model.add(tf.keras.layers.Dense(units=10, activation=tf.nn.softmax))\n",
    "\n",
    "model.compile(optimizer=tf.train.AdamOptimizer(learning_rate=0.001), \n",
    "              loss='sparse_categorical_crossentropy',\n",
    "              metrics=['accuracy'])"
   ]
  },
  {
   "cell_type": "markdown",
   "metadata": {},
   "source": [
    "<font size=\"5\">Train the Model</font>"
   ]
  },
  {
   "cell_type": "code",
   "execution_count": 138,
   "metadata": {},
   "outputs": [
    {
     "name": "stdout",
     "output_type": "stream",
     "text": [
      "Train on 31500 samples, validate on 10500 samples\n",
      "Epoch 1/20\n",
      "31500/31500 [==============================] - 15s 482us/step - loss: 0.0241 - acc: 0.9918 - val_loss: 0.0290 - val_acc: 0.9909\n",
      "Epoch 2/20\n",
      "31500/31500 [==============================] - 15s 486us/step - loss: 0.0234 - acc: 0.9925 - val_loss: 0.0285 - val_acc: 0.9904\n",
      "Epoch 3/20\n",
      "31500/31500 [==============================] - 15s 490us/step - loss: 0.0236 - acc: 0.9918 - val_loss: 0.0290 - val_acc: 0.9910\n",
      "Epoch 4/20\n",
      "31500/31500 [==============================] - 15s 488us/step - loss: 0.0226 - acc: 0.9925 - val_loss: 0.0293 - val_acc: 0.9909\n",
      "Epoch 5/20\n",
      "31500/31500 [==============================] - 15s 491us/step - loss: 0.0226 - acc: 0.9925 - val_loss: 0.0288 - val_acc: 0.9910\n",
      "Epoch 6/20\n",
      "31500/31500 [==============================] - 15s 490us/step - loss: 0.0232 - acc: 0.9924 - val_loss: 0.0285 - val_acc: 0.9908\n",
      "Epoch 7/20\n",
      "31500/31500 [==============================] - 15s 489us/step - loss: 0.0224 - acc: 0.9928 - val_loss: 0.0296 - val_acc: 0.9906\n",
      "Epoch 8/20\n",
      "31500/31500 [==============================] - 15s 489us/step - loss: 0.0219 - acc: 0.9929 - val_loss: 0.0295 - val_acc: 0.9910\n",
      "Epoch 9/20\n",
      "31500/31500 [==============================] - 15s 489us/step - loss: 0.0240 - acc: 0.9920 - val_loss: 0.0282 - val_acc: 0.9909\n",
      "Epoch 10/20\n",
      "31500/31500 [==============================] - 15s 487us/step - loss: 0.0225 - acc: 0.9927 - val_loss: 0.0295 - val_acc: 0.9909\n",
      "Epoch 11/20\n",
      "31500/31500 [==============================] - 15s 490us/step - loss: 0.0213 - acc: 0.9926 - val_loss: 0.0292 - val_acc: 0.9906\n",
      "Epoch 12/20\n",
      "31500/31500 [==============================] - 16s 507us/step - loss: 0.0219 - acc: 0.9928 - val_loss: 0.0289 - val_acc: 0.9909\n",
      "Epoch 13/20\n",
      "31500/31500 [==============================] - 16s 503us/step - loss: 0.0222 - acc: 0.9923 - val_loss: 0.0279 - val_acc: 0.9911\n",
      "Epoch 14/20\n",
      "31500/31500 [==============================] - 16s 495us/step - loss: 0.0206 - acc: 0.9932 - val_loss: 0.0274 - val_acc: 0.9917\n",
      "Epoch 15/20\n",
      "31500/31500 [==============================] - 16s 492us/step - loss: 0.0205 - acc: 0.9930 - val_loss: 0.0292 - val_acc: 0.9908\n",
      "Epoch 16/20\n",
      "31500/31500 [==============================] - 16s 497us/step - loss: 0.0219 - acc: 0.9930 - val_loss: 0.0283 - val_acc: 0.9908\n",
      "Epoch 17/20\n",
      "31500/31500 [==============================] - 16s 493us/step - loss: 0.0192 - acc: 0.9937 - val_loss: 0.0274 - val_acc: 0.9914\n",
      "Epoch 18/20\n",
      "31500/31500 [==============================] - 16s 502us/step - loss: 0.0202 - acc: 0.9930 - val_loss: 0.0277 - val_acc: 0.9916\n",
      "Epoch 19/20\n",
      "31500/31500 [==============================] - 16s 500us/step - loss: 0.0215 - acc: 0.9931 - val_loss: 0.0278 - val_acc: 0.9910\n",
      "Epoch 20/20\n",
      "31500/31500 [==============================] - 16s 493us/step - loss: 0.0210 - acc: 0.9933 - val_loss: 0.0277 - val_acc: 0.9909\n"
     ]
    },
    {
     "data": {
      "text/plain": [
       "<tensorflow.python.keras.callbacks.History at 0x1e7baa9c208>"
      ]
     },
     "execution_count": 138,
     "metadata": {},
     "output_type": "execute_result"
    }
   ],
   "source": [
    "model.fit(Xtr, Ytr, epochs=80, batch_size=3000, validation_data=(Xva, Yva))"
   ]
  },
  {
   "cell_type": "markdown",
   "metadata": {},
   "source": [
    "<font size=\"5\">Evaluate Model</font>"
   ]
  },
  {
   "cell_type": "code",
   "execution_count": 139,
   "metadata": {},
   "outputs": [
    {
     "name": "stdout",
     "output_type": "stream",
     "text": [
      "0.9908571428571429\n"
     ]
    }
   ],
   "source": [
    "p = model.predict(Xva)\n",
    "p = np.argmax(p, axis=1)\n",
    "\n",
    "print(metrics.accuracy_score(Yva, p))"
   ]
  },
  {
   "cell_type": "markdown",
   "metadata": {},
   "source": [
    "<font size=\"5\">Write Test Predictions</font>"
   ]
  },
  {
   "cell_type": "code",
   "execution_count": 140,
   "metadata": {},
   "outputs": [],
   "source": [
    "test_pred = model.predict(Xtest)\n",
    "test_pred = np.argmax(test_pred, axis=1)\n",
    "\n",
    "f = open(\"output/kaggle_keras_4.csv\", \"w\")\n",
    "f.write(\"ImageId,Label\\n\")\n",
    "for i in range(len(test_pred)):\n",
    "    f.write(str(i+1) + \",\" + str(test_pred[i]) + \"\\n\")\n",
    "f.close()"
   ]
  },
  {
   "cell_type": "code",
   "execution_count": null,
   "metadata": {},
   "outputs": [],
   "source": []
  }
 ],
 "metadata": {
  "kernelspec": {
   "display_name": "Python 3",
   "language": "python",
   "name": "python3"
  },
  "language_info": {
   "codemirror_mode": {
    "name": "ipython",
    "version": 3
   },
   "file_extension": ".py",
   "mimetype": "text/x-python",
   "name": "python",
   "nbconvert_exporter": "python",
   "pygments_lexer": "ipython3",
   "version": "3.6.5"
  }
 },
 "nbformat": 4,
 "nbformat_minor": 2
}
